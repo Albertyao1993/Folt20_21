{
 "cells": [
  {
   "cell_type": "markdown",
   "metadata": {
    "id": "xXTZ3sthLr87"
   },
   "source": [
    "# **FolT Homework 2**\n"
   ]
  },
  {
   "cell_type": "code",
   "execution_count": null,
   "metadata": {
    "id": "KlpPiaEuSTw8"
   },
   "outputs": [],
   "source": [
    "# Execute before and only in colab, if you use jupyter ignore this cell\n",
    "!pip install --target=$nb_path nltk==3.5\n",
    "!python3 -m nltk.downloader popular\n",
    "!python3 -m nltk.downloader book"
   ]
  },
  {
   "cell_type": "code",
   "execution_count": 12,
   "metadata": {
    "id": "-6ckUIz6TPJn"
   },
   "outputs": [],
   "source": [
    "# Excecute before\n",
    "import nltk\n",
    "from nltk import *\n",
    "from nltk.book import *"
   ]
  },
  {
   "cell_type": "markdown",
   "metadata": {
    "id": "Eo3mepfqL17n"
   },
   "source": [
    "### Homework 2.1 (5 points)\n",
    "An important problem in computational linguistics is morphological analysis. This consists of breaking down a word\n",
    "into its component pieces, for example losses might be broken down as loss + es. In English, morphology is relatively\n",
    "simple and is mostly comprised of prefixes and suffixes. To get an idea of what suffixes are common in English (and\n",
    "thus could be morphemes), we can look at the frequencies of the last two characters of sufficiently long words. Write\n",
    "a function ***top_suffixes(words)*** that takes a sequence of words as an input and returns the ***20 most frequent twocharacter suffixes*** of the input words. We define a two-character suffix as the last two characters of any word of ***length\n",
    "5*** or more, thus your function may simply ignore any word shorter than five characters. Your function should use the\n",
    "***NLTK FreqDist*** class to count these suffixes. Hint: You may use the following code snippets:\n"
   ]
  },
  {
   "cell_type": "code",
   "execution_count": 13,
   "metadata": {
    "id": "uoLbzwl9rr3k"
   },
   "outputs": [],
   "source": [
    "blake_words = corpus.gutenberg.words('blake-poems.txt')"
   ]
  },
  {
   "cell_type": "code",
   "execution_count": 44,
   "metadata": {
    "id": "VJUV0DoQ3jub"
   },
   "outputs": [],
   "source": [
    "# write your top_suffixes function here  \n",
    "# def top_suffixes(text):\n",
    "#     # find the word which its length smaller than 4\n",
    "#     word = [w for w in set(text) if len(w) >4]\n",
    "#     # map word and its suffix in a dictionary\n",
    "#     word_suff = {}\n",
    "#     for w in word:\n",
    "#         word_suff[w] = w[-2:]\n",
    "#     # get the suffix distribution frequency \n",
    "#     fdist_suff = nltk.FreqDist(word_suff.values())\n",
    "#     # get the most_common 20 suffixes\n",
    "#     res = [suff for suff,_ in fdist_suff.most_common(20)]\n",
    "    \n",
    "#     print(k for k,v in word_suff.items() if v == 'ed')\n",
    "    \n",
    "#     return res"
   ]
  },
  {
   "cell_type": "code",
   "execution_count": 54,
   "metadata": {
    "id": "mhYkdeLKrqPM"
   },
   "outputs": [
    {
     "name": "stdout",
     "output_type": "stream",
     "text": [
      "[('ed', 107), ('ng', 96), ('es', 63), ('er', 54), ('rs', 28), ('st', 26), ('ts', 26), ('ss', 25), ('en', 25), ('se', 24), ('le', 22), ('th', 21), ('ds', 20), ('nd', 20), ('ly', 20), ('ry', 19), ('ht', 17), ('ce', 15), ('sh', 15), ('re', 14)]\n",
      "None\n",
      "[('ed', 107), ('ng', 96), ('es', 63), ('er', 54), ('rs', 28), ('st', 26), ('ts', 26), ('ss', 25), ('en', 25), ('se', 24), ('le', 22), ('th', 21), ('ds', 20), ('nd', 20), ('ly', 20), ('ry', 19), ('ht', 17), ('ce', 15), ('sh', 15), ('re', 14)]\n"
     ]
    },
    {
     "ename": "TypeError",
     "evalue": "argument of type 'NoneType' is not iterable",
     "output_type": "error",
     "traceback": [
      "\u001b[0;31m---------------------------------------------------------------------------\u001b[0m",
      "\u001b[0;31mTypeError\u001b[0m                                 Traceback (most recent call last)",
      "\u001b[0;32m<ipython-input-54-a711d1f675c7>\u001b[0m in \u001b[0;36m<module>\u001b[0;34m\u001b[0m\n\u001b[1;32m      3\u001b[0m \u001b[0;31m# \"ed\" is a one of the most common english language suffixes\u001b[0m\u001b[0;34m\u001b[0m\u001b[0;34m\u001b[0m\u001b[0;34m\u001b[0m\u001b[0m\n\u001b[1;32m      4\u001b[0m \u001b[0;31m# So this test should equal to true otherwise you need to look for mistakes in your implementation\u001b[0m\u001b[0;34m\u001b[0m\u001b[0;34m\u001b[0m\u001b[0;34m\u001b[0m\u001b[0m\n\u001b[0;32m----> 5\u001b[0;31m \u001b[0mprint\u001b[0m\u001b[0;34m(\u001b[0m\u001b[0;34m\"ed\"\u001b[0m \u001b[0;32min\u001b[0m \u001b[0mtop_suffixes\u001b[0m\u001b[0;34m(\u001b[0m\u001b[0mblake_words\u001b[0m\u001b[0;34m)\u001b[0m\u001b[0;34m)\u001b[0m\u001b[0;34m\u001b[0m\u001b[0;34m\u001b[0m\u001b[0m\n\u001b[0m",
      "\u001b[0;31mTypeError\u001b[0m: argument of type 'NoneType' is not iterable"
     ]
    }
   ],
   "source": [
    "print(top_suffixes(blake_words)) # check your function\n",
    "\n",
    "# \"ed\" is a one of the most common english language suffixes \n",
    "# So this test should equal to true otherwise you need to look for mistakes in your implementation\n",
    "print(\"ed\" in top_suffixes(blake_words)) "
   ]
  },
  {
   "cell_type": "markdown",
   "metadata": {
    "id": "YD6pAe38SvnV"
   },
   "source": [
    "### Hints \n",
    "*   FreqDist(???).most_common(20) #what argument expects FreqDist?\n",
    "*   word[-2:] #result?\n",
    "* for word in words:\n",
    "  if len(word) > 4: ..."
   ]
  }
 ],
 "metadata": {
  "colab": {
   "name": "FolT_Homework_2.ipynb",
   "provenance": []
  },
  "kernelspec": {
   "display_name": "Python 3",
   "language": "python",
   "name": "python3"
  },
  "language_info": {
   "codemirror_mode": {
    "name": "ipython",
    "version": 3
   },
   "file_extension": ".py",
   "mimetype": "text/x-python",
   "name": "python",
   "nbconvert_exporter": "python",
   "pygments_lexer": "ipython3",
   "version": "3.7.9"
  }
 },
 "nbformat": 4,
 "nbformat_minor": 1
}
